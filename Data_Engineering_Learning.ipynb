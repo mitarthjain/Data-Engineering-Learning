{
  "nbformat": 4,
  "nbformat_minor": 0,
  "metadata": {
    "kernelspec": {
      "display_name": "Python 3",
      "language": "python",
      "name": "python3"
    },
    "language_info": {
      "codemirror_mode": {
        "name": "ipython",
        "version": 3
      },
      "file_extension": ".py",
      "mimetype": "text/x-python",
      "name": "python",
      "nbconvert_exporter": "python",
      "pygments_lexer": "ipython3",
      "version": "3.6.1"
    },
    "colab": {
      "name": "Data_Engineering_Learning.ipynb",
      "provenance": []
    }
  },
  "cells": [
    {
      "cell_type": "code",
      "metadata": {
        "id": "lkNH4JGOoPAG",
        "outputId": "4a09379f-4ca8-444f-99fb-2e317085fef0"
      },
      "source": [
        "!pip install psycopg2"
      ],
      "execution_count": null,
      "outputs": [
        {
          "name": "stdout",
          "output_type": "stream",
          "text": [
            "Requirement already satisfied: psycopg2 in c:\\users\\mitar\\harry\\lib\\site-packages (2.9.1)\n"
          ]
        },
        {
          "name": "stderr",
          "output_type": "stream",
          "text": [
            "WARNING: You are using pip version 19.1, however version 21.2.4 is available.\n",
            "You should consider upgrading via the 'python -m pip install --upgrade pip' command.\n"
          ]
        }
      ]
    },
    {
      "cell_type": "code",
      "metadata": {
        "id": "lLvM-AANoPAN",
        "outputId": "64685f11-86b5-46c6-f6dd-fff1f84f83f5"
      },
      "source": [
        "!pip install psycopg2-binary "
      ],
      "execution_count": null,
      "outputs": [
        {
          "name": "stdout",
          "output_type": "stream",
          "text": [
            "Collecting psycopg2-binary\n",
            "  Downloading https://files.pythonhosted.org/packages/96/5e/b63f11d9a47448890f385c2eb6130825344fb348bd99727e4c7849ff1740/psycopg2_binary-2.9.1-cp36-cp36m-win_amd64.whl (1.1MB)\n",
            "Installing collected packages: psycopg2-binary\n",
            "Successfully installed psycopg2-binary-2.9.1\n"
          ]
        },
        {
          "name": "stderr",
          "output_type": "stream",
          "text": [
            "WARNING: You are using pip version 19.1, however version 21.2.4 is available.\n",
            "You should consider upgrading via the 'python -m pip install --upgrade pip' command.\n"
          ]
        }
      ]
    },
    {
      "cell_type": "code",
      "metadata": {
        "id": "cAcOUynmoPAR"
      },
      "source": [
        "import psycopg2 as pg"
      ],
      "execution_count": null,
      "outputs": []
    },
    {
      "cell_type": "code",
      "metadata": {
        "id": "ItMPukjyoPAU"
      },
      "source": [
        "try:\n",
        "    con=pg.connect(\"host=127.0.0.1 dbname=postgres user=postgres password=root\")\n",
        "except pg.Error as e:\n",
        "    print(\"cannot connect\")\n",
        "    print(e)"
      ],
      "execution_count": null,
      "outputs": []
    },
    {
      "cell_type": "code",
      "metadata": {
        "id": "8yjDLW7roPAW"
      },
      "source": [
        "try:\n",
        "    cur=con.cursor()\n",
        "except pg.Error as e:\n",
        "    print(\"cannot connect cursor\")\n",
        "    print(e)"
      ],
      "execution_count": null,
      "outputs": []
    },
    {
      "cell_type": "code",
      "metadata": {
        "id": "Lf7scYnpoPAa"
      },
      "source": [
        "con.set_session(autocommit=True)"
      ],
      "execution_count": null,
      "outputs": []
    },
    {
      "cell_type": "code",
      "metadata": {
        "id": "6xARV3U1oPAc"
      },
      "source": [
        "try:\n",
        "    cur.execute(\"create database testdb\")\n",
        "except pg.Error as e:\n",
        "    print(e)"
      ],
      "execution_count": null,
      "outputs": []
    },
    {
      "cell_type": "code",
      "metadata": {
        "id": "H0dmc6zmoPAf"
      },
      "source": [
        "try:\n",
        "    con.close()\n",
        "except pg.Error as e:\n",
        "    print(e)"
      ],
      "execution_count": null,
      "outputs": []
    },
    {
      "cell_type": "code",
      "metadata": {
        "id": "bUngJgnBoPAi"
      },
      "source": [
        "try:\n",
        "    con=pg.connect(\"host=127.0.0.1 dbname=testdb user=postgres password=root\")\n",
        "except pg.Error as e:\n",
        "    print(\"cannot connect\")\n",
        "    print(e)\n",
        "try:\n",
        "    cur=con.cursor()\n",
        "except pg.Error as e:\n",
        "    print(\"cannot connect cursor\")\n",
        "    print(e)\n",
        "con.set_session(autocommit=True)\n"
      ],
      "execution_count": null,
      "outputs": []
    },
    {
      "cell_type": "code",
      "metadata": {
        "id": "tXZ9uxlEoPAp"
      },
      "source": [
        "try:\n",
        "    cur.execute(\"CREATE TABLE IF NOT EXISTS students(student_id int,name varchar,age int,gender varchar,subject varchar,marks int);\")\n",
        "except pg.Error as e:\n",
        "    print(\"can't create table\")\n",
        "    print(e)"
      ],
      "execution_count": null,
      "outputs": []
    },
    {
      "cell_type": "code",
      "metadata": {
        "id": "zTm_ILS0oPAr"
      },
      "source": [
        "try:\n",
        "    cur.execute(\"INSERT INTO students(student_id,name,age,gender,subject,marks) VALUES(%s,%s,%s,%s,%s,%s)\",(1,\"Raj\",22,\"Male\",\"Java\",85))\n",
        "except pg.Error as e:\n",
        "    print(\"can't insert into table\")\n",
        "    print(e)"
      ],
      "execution_count": null,
      "outputs": []
    },
    {
      "cell_type": "code",
      "metadata": {
        "id": "BEl52rr8oPAs"
      },
      "source": [
        ""
      ],
      "execution_count": null,
      "outputs": []
    }
  ]
}